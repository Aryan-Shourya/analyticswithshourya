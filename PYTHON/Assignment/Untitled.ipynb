{
 "cells": [
  {
   "cell_type": "code",
   "execution_count": 1,
   "id": "92f609d6-b893-4bac-a71d-8db2cb068d72",
   "metadata": {},
   "outputs": [],
   "source": [
    "name = \"prachi\"\n",
    "age = 25"
   ]
  },
  {
   "cell_type": "code",
   "execution_count": 4,
   "id": "9f9e05cd-5125-4eec-8f58-1aed938b7474",
   "metadata": {},
   "outputs": [
    {
     "name": "stdout",
     "output_type": "stream",
     "text": [
      "Name-> Prachi Age-> 25 "
     ]
    }
   ],
   "source": [
    "print(\"Name->\",\"Prachi\", end=\" \")\n",
    "print(\"Age->\" , \"25\" , end=\" \")"
   ]
  },
  {
   "cell_type": "code",
   "execution_count": 5,
   "id": "b7d813bc-1549-4dbe-97ed-ceb84e986123",
   "metadata": {},
   "outputs": [
    {
     "name": "stdout",
     "output_type": "stream",
     "text": [
      "hello \"parchi\"\n"
     ]
    }
   ],
   "source": [
    "print(\"hello \\\"parchi\\\"\")"
   ]
  },
  {
   "cell_type": "code",
   "execution_count": null,
   "id": "4e2bcdf1-bf97-4bac-b8b6-12e7ce682939",
   "metadata": {},
   "outputs": [],
   "source": []
  }
 ],
 "metadata": {
  "kernelspec": {
   "display_name": "Python 3 (ipykernel)",
   "language": "python",
   "name": "python3"
  },
  "language_info": {
   "codemirror_mode": {
    "name": "ipython",
    "version": 3
   },
   "file_extension": ".py",
   "mimetype": "text/x-python",
   "name": "python",
   "nbconvert_exporter": "python",
   "pygments_lexer": "ipython3",
   "version": "3.12.7"
  }
 },
 "nbformat": 4,
 "nbformat_minor": 5
}
